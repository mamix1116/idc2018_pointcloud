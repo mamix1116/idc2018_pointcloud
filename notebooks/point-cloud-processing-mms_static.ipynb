{
 "cells": [
  {
   "cell_type": "markdown",
   "metadata": {},
   "source": [
    "# 点群データをJupyterでグリグリ"
   ]
  },
  {
   "cell_type": "markdown",
   "metadata": {},
   "source": [
    "# point cloud processing\n"
   ]
  },
  {
   "cell_type": "code",
   "execution_count": 1,
   "metadata": {},
   "outputs": [],
   "source": [
    "# 必要なモジュールを読み込む\n",
    "import glob\n",
    "import io\n",
    "import ipyleaflet\n",
    "import IPython.display\n",
    "import ipyvolume.pylab as p3\n",
    "import json\n",
    "import matplotlib.cm\n",
    "import matplotlib.pyplot as plt\n",
    "import numpy as np\n",
    "import os\n",
    "import pandas as pd\n",
    "import pdal\n",
    "import PIL\n",
    "import pyproj\n",
    "import requests\n",
    "import shapely.geometry\n",
    "import scipy.spatial\n",
    "import sys\n",
    "import urllib.request"
   ]
  },
  {
   "cell_type": "code",
   "execution_count": 2,
   "metadata": {},
   "outputs": [],
   "source": [
    "%load_ext autoreload\n",
    "%autoreload 2\n",
    "    \n",
    "sys.path.append('../src')\n",
    "from pcl_utils import local_max\n",
    "\n",
    "%matplotlib inline"
   ]
  },
  {
   "cell_type": "code",
   "execution_count": 3,
   "metadata": {},
   "outputs": [],
   "source": [
    "# ファイルを確認する\n",
    "mms_filename = 'MMS_subsample.las'\n",
    "if not os.path.isfile('../data/' + mms_filename):\n",
    "    print(\"No Data\")"
   ]
  },
  {
   "cell_type": "code",
   "execution_count": null,
   "metadata": {
    "scrolled": true
   },
   "outputs": [],
   "source": [
    "# 大手町周辺の地図を表示し、範囲を選択\n",
    "m = ipyleaflet.Map(center=(35.685751, 139.761228), zoom=17)\n",
    "dc = ipyleaflet.DrawControl()\n",
    "m.add_control(dc)\n",
    "m"
   ]
  },
  {
   "cell_type": "markdown",
   "metadata": {},
   "source": [
    "## Selecting street portion with a polygon\n",
    "![](../img/leaflet.png)"
   ]
  },
  {
   "cell_type": "code",
   "execution_count": 7,
   "metadata": {},
   "outputs": [
    {
     "name": "stdout",
     "output_type": "stream",
     "text": [
      "POLYGON ((-6558.26632205265 -34849.17662094436, -6501.885428214457 -34859.31377348999, -6519.861278309005 -34933.85374847946, -6566.632001946517 -34901.53515337567, -6558.26632205265 -34849.17662094436))\n"
     ]
    },
    {
     "data": {
      "image/svg+xml": [
       "<svg xmlns=\"http://www.w3.org/2000/svg\" xmlns:xlink=\"http://www.w3.org/1999/xlink\" width=\"100.0\" height=\"100.0\" viewBox=\"-6570.019087047921 -34937.240833580865 71.52074393486782 91.45129773791268\" preserveAspectRatio=\"xMinYMin meet\"><g transform=\"matrix(1,0,0,-1,0,-69783.03036942382)\"><path fill-rule=\"evenodd\" fill=\"#66cc99\" stroke=\"#555555\" stroke-width=\"1.8290259547582537\" opacity=\"0.6\" d=\"M -6558.26632205265,-34849.17662094436 L -6501.885428214457,-34859.31377348999 L -6519.861278309005,-34933.85374847946 L -6566.632001946517,-34901.53515337567 L -6558.26632205265,-34849.17662094436 z\" /></g></svg>"
      ],
      "text/plain": [
       "<shapely.geometry.polygon.Polygon at 0xd1e630ac8>"
      ]
     },
     "metadata": {},
     "output_type": "display_data"
    }
   ],
   "source": [
    "#　選択した範囲のポリゴン \n",
    "wsg84 = pyproj.Proj(init='epsg:4326')\n",
    "lambert = pyproj.Proj(init='epsg:2451')\n",
    "coords = [pyproj.transform(wsg84,lambert,x,y) for (x,y) in dc.last_draw['geometry']['coordinates'][0]]\n",
    "polygon = shapely.geometry.Polygon(coords)\n",
    "print(polygon.wkt)\n",
    "IPython.display.display(polygon)"
   ]
  },
  {
   "cell_type": "code",
   "execution_count": 8,
   "metadata": {},
   "outputs": [
    {
     "name": "stdout",
     "output_type": "stream",
     "text": [
      "CPU times: user 3.18 s, sys: 124 ms, total: 3.3 s\n",
      "Wall time: 3.34 s\n",
      "Pipeline selected 901218 points (253.7 pts/m2)\n"
     ]
    }
   ],
   "source": [
    "# 点群データから、選択ポリゴンの点群を抽出する\n",
    "b = polygon.bounds\n",
    "cropper = {\n",
    "    \"pipeline\": [ '../data/'+ mms_filename,\n",
    "        {   \"type\":\"filters.crop\",\n",
    "            'bounds':str(([b[0], b[2]],[b[1], b[3]]))},\n",
    "        {   \"type\":\"filters.hag\"}\n",
    "    ]}\n",
    "pipeline = pdal.Pipeline(json.dumps(cropper))\n",
    "pipeline.validate()\n",
    "%time n_points = pipeline.execute()\n",
    "print('Pipeline selected {} points ({:.1f} pts/m2)'.format(n_points, n_points/polygon.area))"
   ]
  },
  {
   "cell_type": "code",
   "execution_count": 9,
   "metadata": {},
   "outputs": [],
   "source": [
    "# Load Pipeline output in python objects\n",
    "arr = pipeline.arrays[0]\n",
    "description = arr.dtype.descr\n",
    "cols = [col for col, __ in description]\n",
    "df = pd.DataFrame({col: arr[col] for col in cols})\n",
    "df['X_0'] = df['X']\n",
    "df['Y_0'] = df['Y']\n",
    "df['Z_0'] = df['Z']\n",
    "df['X'] = df['X'] - df['X_0'].min()\n",
    "df['Y'] = df['Y'] - df['Y_0'].min()\n",
    "df['Z'] = df['Z'] - df['Z_0'].min()"
   ]
  },
  {
   "cell_type": "code",
   "execution_count": null,
   "metadata": {
    "slideshow": {
     "slide_type": "-"
    }
   },
   "outputs": [],
   "source": [
    "# 抽出した点群を表示する\n",
    "fig = p3.figure(width=1000)\n",
    "fig.xlabel='Y'\n",
    "fig.ylabel='Z'\n",
    "fig.zlabel='X'\n",
    "all_points = p3.scatter(df['Y'], df['Z'], df['X'], color='red', size=.2)\n",
    "p3.squarelim()\n",
    "p3.show()"
   ]
  },
  {
   "cell_type": "markdown",
   "metadata": {},
   "source": [
    "## Original data\n",
    "![](../img/img00.png)"
   ]
  },
  {
   "cell_type": "code",
   "execution_count": 12,
   "metadata": {},
   "outputs": [
    {
     "data": {
      "text/html": [
       "<div>\n",
       "<style scoped>\n",
       "    .dataframe tbody tr th:only-of-type {\n",
       "        vertical-align: middle;\n",
       "    }\n",
       "\n",
       "    .dataframe tbody tr th {\n",
       "        vertical-align: top;\n",
       "    }\n",
       "\n",
       "    .dataframe thead th {\n",
       "        text-align: right;\n",
       "    }\n",
       "</style>\n",
       "<table border=\"1\" class=\"dataframe\">\n",
       "  <thead>\n",
       "    <tr style=\"text-align: right;\">\n",
       "      <th></th>\n",
       "      <th>X</th>\n",
       "      <th>Y</th>\n",
       "      <th>Z</th>\n",
       "      <th>Intensity</th>\n",
       "      <th>ReturnNumber</th>\n",
       "      <th>NumberOfReturns</th>\n",
       "      <th>ScanDirectionFlag</th>\n",
       "      <th>EdgeOfFlightLine</th>\n",
       "      <th>Classification</th>\n",
       "      <th>ScanAngleRank</th>\n",
       "      <th>UserData</th>\n",
       "      <th>PointSourceId</th>\n",
       "      <th>GpsTime</th>\n",
       "      <th>Red</th>\n",
       "      <th>Green</th>\n",
       "      <th>Blue</th>\n",
       "      <th>HeightAboveGround</th>\n",
       "      <th>X_0</th>\n",
       "      <th>Y_0</th>\n",
       "      <th>Z_0</th>\n",
       "    </tr>\n",
       "  </thead>\n",
       "  <tbody>\n",
       "    <tr>\n",
       "      <th>0</th>\n",
       "      <td>0.104</td>\n",
       "      <td>13.840</td>\n",
       "      <td>10.784</td>\n",
       "      <td>21320</td>\n",
       "      <td>0</td>\n",
       "      <td>0</td>\n",
       "      <td>0</td>\n",
       "      <td>0</td>\n",
       "      <td>2</td>\n",
       "      <td>0.0</td>\n",
       "      <td>10</td>\n",
       "      <td>60</td>\n",
       "      <td>197517.070882</td>\n",
       "      <td>0</td>\n",
       "      <td>0</td>\n",
       "      <td>0</td>\n",
       "      <td>0.0</td>\n",
       "      <td>-6566.52225</td>\n",
       "      <td>-34920.006991</td>\n",
       "      <td>2.779999</td>\n",
       "    </tr>\n",
       "    <tr>\n",
       "      <th>1</th>\n",
       "      <td>0.224</td>\n",
       "      <td>13.840</td>\n",
       "      <td>10.784</td>\n",
       "      <td>17585</td>\n",
       "      <td>0</td>\n",
       "      <td>0</td>\n",
       "      <td>0</td>\n",
       "      <td>0</td>\n",
       "      <td>2</td>\n",
       "      <td>0.0</td>\n",
       "      <td>10</td>\n",
       "      <td>60</td>\n",
       "      <td>197517.070882</td>\n",
       "      <td>0</td>\n",
       "      <td>0</td>\n",
       "      <td>0</td>\n",
       "      <td>0.0</td>\n",
       "      <td>-6566.40225</td>\n",
       "      <td>-34920.006991</td>\n",
       "      <td>2.779999</td>\n",
       "    </tr>\n",
       "    <tr>\n",
       "      <th>2</th>\n",
       "      <td>0.336</td>\n",
       "      <td>13.840</td>\n",
       "      <td>10.792</td>\n",
       "      <td>21353</td>\n",
       "      <td>0</td>\n",
       "      <td>0</td>\n",
       "      <td>0</td>\n",
       "      <td>0</td>\n",
       "      <td>2</td>\n",
       "      <td>0.0</td>\n",
       "      <td>10</td>\n",
       "      <td>60</td>\n",
       "      <td>197517.070882</td>\n",
       "      <td>0</td>\n",
       "      <td>0</td>\n",
       "      <td>0</td>\n",
       "      <td>0.0</td>\n",
       "      <td>-6566.29025</td>\n",
       "      <td>-34920.006991</td>\n",
       "      <td>2.787999</td>\n",
       "    </tr>\n",
       "    <tr>\n",
       "      <th>3</th>\n",
       "      <td>0.440</td>\n",
       "      <td>13.848</td>\n",
       "      <td>10.792</td>\n",
       "      <td>19060</td>\n",
       "      <td>0</td>\n",
       "      <td>0</td>\n",
       "      <td>0</td>\n",
       "      <td>0</td>\n",
       "      <td>2</td>\n",
       "      <td>0.0</td>\n",
       "      <td>10</td>\n",
       "      <td>60</td>\n",
       "      <td>197517.070882</td>\n",
       "      <td>0</td>\n",
       "      <td>0</td>\n",
       "      <td>0</td>\n",
       "      <td>0.0</td>\n",
       "      <td>-6566.18625</td>\n",
       "      <td>-34919.998991</td>\n",
       "      <td>2.787999</td>\n",
       "    </tr>\n",
       "    <tr>\n",
       "      <th>4</th>\n",
       "      <td>0.552</td>\n",
       "      <td>13.840</td>\n",
       "      <td>10.792</td>\n",
       "      <td>20616</td>\n",
       "      <td>0</td>\n",
       "      <td>0</td>\n",
       "      <td>0</td>\n",
       "      <td>0</td>\n",
       "      <td>2</td>\n",
       "      <td>0.0</td>\n",
       "      <td>10</td>\n",
       "      <td>60</td>\n",
       "      <td>197517.070882</td>\n",
       "      <td>0</td>\n",
       "      <td>0</td>\n",
       "      <td>0</td>\n",
       "      <td>0.0</td>\n",
       "      <td>-6566.07425</td>\n",
       "      <td>-34920.006991</td>\n",
       "      <td>2.787999</td>\n",
       "    </tr>\n",
       "  </tbody>\n",
       "</table>\n",
       "</div>"
      ],
      "text/plain": [
       "       X       Y       Z  Intensity  ReturnNumber  NumberOfReturns  \\\n",
       "0  0.104  13.840  10.784      21320             0                0   \n",
       "1  0.224  13.840  10.784      17585             0                0   \n",
       "2  0.336  13.840  10.792      21353             0                0   \n",
       "3  0.440  13.848  10.792      19060             0                0   \n",
       "4  0.552  13.840  10.792      20616             0                0   \n",
       "\n",
       "   ScanDirectionFlag  EdgeOfFlightLine  Classification  ScanAngleRank  \\\n",
       "0                  0                 0               2            0.0   \n",
       "1                  0                 0               2            0.0   \n",
       "2                  0                 0               2            0.0   \n",
       "3                  0                 0               2            0.0   \n",
       "4                  0                 0               2            0.0   \n",
       "\n",
       "   UserData  PointSourceId        GpsTime  Red  Green  Blue  \\\n",
       "0        10             60  197517.070882    0      0     0   \n",
       "1        10             60  197517.070882    0      0     0   \n",
       "2        10             60  197517.070882    0      0     0   \n",
       "3        10             60  197517.070882    0      0     0   \n",
       "4        10             60  197517.070882    0      0     0   \n",
       "\n",
       "   HeightAboveGround         X_0           Y_0       Z_0  \n",
       "0                0.0 -6566.52225 -34920.006991  2.779999  \n",
       "1                0.0 -6566.40225 -34920.006991  2.779999  \n",
       "2                0.0 -6566.29025 -34920.006991  2.787999  \n",
       "3                0.0 -6566.18625 -34919.998991  2.787999  \n",
       "4                0.0 -6566.07425 -34920.006991  2.787999  "
      ]
     },
     "execution_count": 12,
     "metadata": {},
     "output_type": "execute_result"
    }
   ],
   "source": [
    "#抽出した点群データの中身を確認\n",
    "df.head()"
   ]
  },
  {
   "cell_type": "code",
   "execution_count": null,
   "metadata": {},
   "outputs": [],
   "source": []
  },
  {
   "cell_type": "code",
   "execution_count": 13,
   "metadata": {},
   "outputs": [
    {
     "data": {
      "text/plain": [
       "2     340700\n",
       "10    299767\n",
       "6     259758\n",
       "0        968\n",
       "7         25\n",
       "Name: Classification, dtype: int64"
      ]
     },
     "execution_count": 13,
     "metadata": {},
     "output_type": "execute_result"
    }
   ],
   "source": [
    "# Classification を集計カウントする\n",
    "df['Classification'].value_counts()"
   ]
  },
  {
   "cell_type": "markdown",
   "metadata": {},
   "source": [
    "**［LAS分類コード］**  \n",
    "American Society for Photogrammetry and Remote Sensing（ASPRS）によって定義されたLAS分類コード\n",
    "\n",
    "|分類値|意味|\n",
    "|:---:|:---|\n",
    "|0|分類不可|\n",
    "|1|未分類|\n",
    "|2|地表|\n",
    "|3|低植生|\n",
    "|4|中植生|\n",
    "|5|高植生|\n",
    "|6|建物|\n",
    "|7|低点|\n",
    "|8|予約済み|\n",
    "|9|水域|\n",
    "|10|レール|\n",
    "|11|路面|\n",
    "|12|予約済み|\n",
    "|13|保護線（シールド）|\n",
    "|14|導線（フェーズ）|\n",
    "|15|送電塔|\n",
    "|16|ワイヤ構造コネクタ（絶縁体）|\n",
    "|17|橋床版|\n",
    "|18|高ノイズ|\n",
    "|19-63|予約済み|\n",
    "|64-255|ユーザ定義可能|\n",
    "\n",
    "LAS 1.4 https://www.asprs.org/wp-content/uploads/2010/12/LAS_1-4_R6.pdf"
   ]
  },
  {
   "cell_type": "code",
   "execution_count": 14,
   "metadata": {},
   "outputs": [
    {
     "data": {
      "text/plain": [
       "0    901218\n",
       "Name: NumberOfReturns, dtype: int64"
      ]
     },
     "execution_count": 14,
     "metadata": {},
     "output_type": "execute_result"
    }
   ],
   "source": [
    "df['NumberOfReturns'].value_counts()"
   ]
  },
  {
   "cell_type": "code",
   "execution_count": 15,
   "metadata": {},
   "outputs": [],
   "source": [
    "# ground と それ以外に分けて、それぞれ定義する\n",
    "df['ground'] = df['Classification']==2\n",
    "\n",
    "ground = p3.scatter(df.loc[df['ground'],'Y'].values, df.loc[df['ground'],'Z'].values, df.loc[df['ground'],'X'].values, color='red', size=.2)\n",
    "non_ground = p3.scatter(df.loc[~df['ground'],'Y'].values, df.loc[~df['ground'],'Z'].values, df.loc[~df['ground'],'X'].values, color='red', size=.2)"
   ]
  },
  {
   "cell_type": "code",
   "execution_count": 16,
   "metadata": {},
   "outputs": [],
   "source": [
    "# ground とそれ以外を可視化する。ground はグレー。\n",
    "fig.scatters.append(ground)\n",
    "fig.scatters.append(non_ground)\n",
    "all_points.visible = False\n",
    "ground.color='lightgrey'\n"
   ]
  },
  {
   "cell_type": "markdown",
   "metadata": {},
   "source": [
    "## Use gound / non-ground classification\n",
    "![](../img/img01.png)"
   ]
  },
  {
   "cell_type": "code",
   "execution_count": null,
   "metadata": {},
   "outputs": [],
   "source": [
    "# groundをサーフェス生成\n",
    "ground_delaunay = scipy.spatial.Delaunay(df.loc[df['ground'],['X','Y']])\n",
    "ground_surf = p3.plot_trisurf(df.loc[df['ground'],'Y'], df.loc[df['ground'],'Z'], df.loc[df['ground'],'X'], ground_delaunay.simplices, color='lightgrey')\n",
    "fig.meshes.append(ground_surf)\n",
    "ground.visible=False"
   ]
  },
  {
   "cell_type": "code",
   "execution_count": null,
   "metadata": {},
   "outputs": [],
   "source": [
    "p3.show()"
   ]
  },
  {
   "cell_type": "markdown",
   "metadata": {},
   "source": [
    "## non-ground surface\n",
    "![](../img/img02.png)"
   ]
  },
  {
   "cell_type": "code",
   "execution_count": null,
   "metadata": {},
   "outputs": [],
   "source": []
  },
  {
   "cell_type": "code",
   "execution_count": null,
   "metadata": {},
   "outputs": [],
   "source": []
  }
 ],
 "metadata": {
  "kernelspec": {
   "display_name": "Python 3",
   "language": "python",
   "name": "python3"
  },
  "language_info": {
   "codemirror_mode": {
    "name": "ipython",
    "version": 3
   },
   "file_extension": ".py",
   "mimetype": "text/x-python",
   "name": "python",
   "nbconvert_exporter": "python",
   "pygments_lexer": "ipython3",
   "version": "3.6.7"
  }
 },
 "nbformat": 4,
 "nbformat_minor": 2
}
